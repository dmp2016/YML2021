{
 "cells": [
  {
   "cell_type": "code",
   "execution_count": 1,
   "id": "e151b7f2",
   "metadata": {},
   "outputs": [],
   "source": [
    "import numpy as np\n",
    "import pandas as pd\n",
    "\n",
    "import matplotlib.pyplot as plt\n",
    "import seaborn as sns\n",
    "\n",
    "from scipy import sparse\n",
    "from tqdm.notebook import tqdm\n",
    "\n",
    "%matplotlib inline"
   ]
  },
  {
   "cell_type": "code",
   "execution_count": 2,
   "id": "19dc66d6",
   "metadata": {},
   "outputs": [],
   "source": [
    "def MNAP(size=20):\n",
    "    '''\n",
    "    MNAP(size=20)\n",
    "        Создаёт метрику под <size> сделанных предсказаний.\n",
    "        \n",
    "        Parameters\n",
    "        ----------\n",
    "        size : int, default=20\n",
    "            Размер рекомендованной выборки для каждого пользователя\n",
    "        \n",
    "        Returns\n",
    "        -------\n",
    "        func(pd.DataFrame, pd.DataFrame) -> float\n",
    "            Функция, вычисляющая MNAP.\n",
    "        \n",
    "    '''\n",
    "    \n",
    "    assert size >= 1, \"Size must be greater than zero!\"\n",
    "    \n",
    "    def metric(y_true, predictions, size=size):\n",
    "        '''\n",
    "        metric(y_true, predictions, size=size)\n",
    "            Метрика MNAP для двух перемешанных наборов <y_true> и <y_pred>.\n",
    "            \n",
    "            Parameters\n",
    "            ----------\n",
    "            y_true : pd.DataFrame\n",
    "                DataFrame с колонками <user_id> и <target>. \n",
    "                В <target> содержится список настоящих org_id, посещённых пользователем. \n",
    "                \n",
    "            predictions : pd.DataFrame\n",
    "                DataFrame с колонками <user_id> и <target>. \n",
    "                В <target> содержится список рекомендованных для пользователя org_id.\n",
    "                \n",
    "            Returns\n",
    "            -------\n",
    "            float \n",
    "                Значение метрики.\n",
    "        '''\n",
    "        \n",
    "        y_true = y_true.rename({'target': 'y_true'}, axis='columns')\n",
    "        predictions = predictions.rename({'target': 'predictions'}, axis='columns')\n",
    "        \n",
    "        merged = y_true.merge(predictions, left_on='user_id', right_on='user_id')\n",
    "    \n",
    "        def score(x, size=size):\n",
    "            '''\n",
    "            Вспомогательная функция.\n",
    "            '''\n",
    "            \n",
    "            \n",
    "            y_true = x[1][1]\n",
    "            predictions = x[1][2][:size]\n",
    "            \n",
    "            weight = 0\n",
    "            \n",
    "            inner_weights = [0]\n",
    "            for n, item in enumerate(predictions):\n",
    "                inner_weight = inner_weights[-1] + (1 if item in y_true else 0)\n",
    "                inner_weights.append(inner_weight)\n",
    "            \n",
    "            for n, item in enumerate(predictions):                \n",
    "                if item in y_true:\n",
    "                    weight += inner_weights[n + 1] / (n + 1)\n",
    "                    \n",
    "            return weight / min(len(y_true), size)\n",
    "    \n",
    "        return np.mean([score(row) for row in merged.iterrows()])\n",
    "    \n",
    "        \n",
    "    return metric\n",
    "\n",
    "\n",
    "def print_score(score):\n",
    "    print(f\"Score: {score*100.0:.2f}\")\n",
    "    \n",
    "    \n",
    "N = 20\n",
    "MNAP_N = MNAP(N)"
   ]
  },
  {
   "cell_type": "code",
   "execution_count": 3,
   "id": "b96da68f",
   "metadata": {},
   "outputs": [],
   "source": [
    "to_list = lambda rubrics: [int(rubric) for rubric in str(rubrics).split(' ')]\n",
    "def apply_to_columns(df, columns, func=to_list):\n",
    "    for column in columns:\n",
    "        df.loc[~df[column].isnull(), column] = df.loc[~df[column].isnull(), column].apply(func)"
   ]
  },
  {
   "cell_type": "code",
   "execution_count": 4,
   "id": "e5bdf3ad",
   "metadata": {},
   "outputs": [],
   "source": [
    "test_users = pd.read_csv(\"Data/df_test_users.csv\")"
   ]
  },
  {
   "cell_type": "code",
   "execution_count": 5,
   "id": "35c3f429",
   "metadata": {},
   "outputs": [],
   "source": [
    "apply_to_columns(test_users, [\"target\"])"
   ]
  },
  {
   "cell_type": "code",
   "execution_count": 7,
   "id": "9cf93aa8",
   "metadata": {},
   "outputs": [
    {
     "data": {
      "text/html": [
       "<div>\n",
       "<style scoped>\n",
       "    .dataframe tbody tr th:only-of-type {\n",
       "        vertical-align: middle;\n",
       "    }\n",
       "\n",
       "    .dataframe tbody tr th {\n",
       "        vertical-align: top;\n",
       "    }\n",
       "\n",
       "    .dataframe thead th {\n",
       "        text-align: right;\n",
       "    }\n",
       "</style>\n",
       "<table border=\"1\" class=\"dataframe\">\n",
       "  <thead>\n",
       "    <tr style=\"text-align: right;\">\n",
       "      <th></th>\n",
       "      <th>user_id</th>\n",
       "      <th>target</th>\n",
       "    </tr>\n",
       "  </thead>\n",
       "  <tbody>\n",
       "    <tr>\n",
       "      <th>0</th>\n",
       "      <td>7182691805603206426</td>\n",
       "      <td>[14808686183642886675]</td>\n",
       "    </tr>\n",
       "    <tr>\n",
       "      <th>1</th>\n",
       "      <td>12628908154792624002</td>\n",
       "      <td>[8976096655121557834]</td>\n",
       "    </tr>\n",
       "    <tr>\n",
       "      <th>2</th>\n",
       "      <td>4476280968377116452</td>\n",
       "      <td>[618141883062762083, 707903906558057894, 13351...</td>\n",
       "    </tr>\n",
       "    <tr>\n",
       "      <th>3</th>\n",
       "      <td>9287460099298305363</td>\n",
       "      <td>[7977043674610261304]</td>\n",
       "    </tr>\n",
       "    <tr>\n",
       "      <th>4</th>\n",
       "      <td>59725523842313932</td>\n",
       "      <td>[14077458212748313316]</td>\n",
       "    </tr>\n",
       "  </tbody>\n",
       "</table>\n",
       "</div>"
      ],
      "text/plain": [
       "                user_id                                             target\n",
       "0   7182691805603206426                             [14808686183642886675]\n",
       "1  12628908154792624002                              [8976096655121557834]\n",
       "2   4476280968377116452  [618141883062762083, 707903906558057894, 13351...\n",
       "3   9287460099298305363                              [7977043674610261304]\n",
       "4     59725523842313932                             [14077458212748313316]"
      ]
     },
     "execution_count": 7,
     "metadata": {},
     "output_type": "execute_result"
    }
   ],
   "source": [
    "test_users.head()"
   ]
  },
  {
   "cell_type": "code",
   "execution_count": 8,
   "id": "ab8a411c",
   "metadata": {},
   "outputs": [],
   "source": [
    "test_prediction = pd.read_csv(\"Data/df_test_predict.csv\")"
   ]
  },
  {
   "cell_type": "code",
   "execution_count": 9,
   "id": "7ad8692e",
   "metadata": {},
   "outputs": [],
   "source": [
    "apply_to_columns(test_prediction, [\"target\"])"
   ]
  },
  {
   "cell_type": "code",
   "execution_count": 10,
   "id": "f4f3f61e",
   "metadata": {},
   "outputs": [
    {
     "data": {
      "text/html": [
       "<div>\n",
       "<style scoped>\n",
       "    .dataframe tbody tr th:only-of-type {\n",
       "        vertical-align: middle;\n",
       "    }\n",
       "\n",
       "    .dataframe tbody tr th {\n",
       "        vertical-align: top;\n",
       "    }\n",
       "\n",
       "    .dataframe thead th {\n",
       "        text-align: right;\n",
       "    }\n",
       "</style>\n",
       "<table border=\"1\" class=\"dataframe\">\n",
       "  <thead>\n",
       "    <tr style=\"text-align: right;\">\n",
       "      <th></th>\n",
       "      <th>user_id</th>\n",
       "      <th>target</th>\n",
       "    </tr>\n",
       "  </thead>\n",
       "  <tbody>\n",
       "    <tr>\n",
       "      <th>0</th>\n",
       "      <td>7182691805603206426</td>\n",
       "      <td>[12046097390037935713, 6838233943148091808, 50...</td>\n",
       "    </tr>\n",
       "    <tr>\n",
       "      <th>1</th>\n",
       "      <td>12628908154792624002</td>\n",
       "      <td>[12046097390037935713, 6838233943148091808, 50...</td>\n",
       "    </tr>\n",
       "    <tr>\n",
       "      <th>2</th>\n",
       "      <td>4476280968377116452</td>\n",
       "      <td>[12046097390037935713, 6838233943148091808, 50...</td>\n",
       "    </tr>\n",
       "    <tr>\n",
       "      <th>3</th>\n",
       "      <td>9287460099298305363</td>\n",
       "      <td>[15250345250621165867, 9104453017196776235, 13...</td>\n",
       "    </tr>\n",
       "    <tr>\n",
       "      <th>4</th>\n",
       "      <td>59725523842313932</td>\n",
       "      <td>[12046097390037935713, 6838233943148091808, 50...</td>\n",
       "    </tr>\n",
       "  </tbody>\n",
       "</table>\n",
       "</div>"
      ],
      "text/plain": [
       "                user_id                                             target\n",
       "0   7182691805603206426  [12046097390037935713, 6838233943148091808, 50...\n",
       "1  12628908154792624002  [12046097390037935713, 6838233943148091808, 50...\n",
       "2   4476280968377116452  [12046097390037935713, 6838233943148091808, 50...\n",
       "3   9287460099298305363  [15250345250621165867, 9104453017196776235, 13...\n",
       "4     59725523842313932  [12046097390037935713, 6838233943148091808, 50..."
      ]
     },
     "execution_count": 10,
     "metadata": {},
     "output_type": "execute_result"
    }
   ],
   "source": [
    "test_prediction.head()"
   ]
  },
  {
   "cell_type": "code",
   "execution_count": 11,
   "id": "7a2cd747",
   "metadata": {},
   "outputs": [
    {
     "name": "stdout",
     "output_type": "stream",
     "text": [
      "Score: 5.46\n"
     ]
    }
   ],
   "source": [
    "print_score(MNAP_N(test_users, test_prediction))"
   ]
  },
  {
   "cell_type": "code",
   "execution_count": null,
   "id": "b3ed8524",
   "metadata": {},
   "outputs": [],
   "source": []
  }
 ],
 "metadata": {
  "kernelspec": {
   "display_name": "Python 3",
   "language": "python",
   "name": "python3"
  },
  "language_info": {
   "codemirror_mode": {
    "name": "ipython",
    "version": 3
   },
   "file_extension": ".py",
   "mimetype": "text/x-python",
   "name": "python",
   "nbconvert_exporter": "python",
   "pygments_lexer": "ipython3",
   "version": "3.8.8"
  }
 },
 "nbformat": 4,
 "nbformat_minor": 5
}
